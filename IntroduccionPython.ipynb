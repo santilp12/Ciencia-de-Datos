{
 "cells": [
  {
   "cell_type": "markdown",
   "id": "7d6d2fa4",
   "metadata": {},
   "source": [
    "\n",
    "# 🐍 Introducción Completa a Python  \n",
    "**Autor:** Santiago Londoño Pérez  \n",
    "**Versión:** 2025  \n",
    "**Formato:** Notebook Jupyter (.ipynb)\n",
    "\n",
    "---\n",
    "Este notebook proporciona una introducción al lenguaje de programación Python.  \n",
    "Incluye teoría, ejemplos prácticos, ejercicios y mini proyectos.  \n"
   ]
  },
  {
   "cell_type": "markdown",
   "id": "4a609cb4",
   "metadata": {},
   "source": [
    "\n",
    "## 1. ¿Qué es Python?\n",
    "Python es un lenguaje de programación de alto nivel, interpretado y de propósito general, creado por Guido van Rossum en 1991.  \n",
    "Su filosofía se basa en la legibilidad del código y la simplicidad.\n",
    "\n",
    "### Características principales:\n",
    "- Sintaxis simple y legible.\n",
    "- Multiparadigma (orientado a objetos, funcional e imperativo).\n",
    "- Gran comunidad y miles de librerías disponibles.\n",
    "- Portátil (se ejecuta en Windows, Mac y Linux).\n",
    "- Ideal para: análisis de datos, inteligencia artificial, desarrollo web, automatización, entre otros.\n",
    "\n",
    "---\n"
   ]
  },
  {
   "cell_type": "markdown",
   "id": "1746190d",
   "metadata": {},
   "source": [
    "## 2. Sintaxis básica"
   ]
  },
  {
   "cell_type": "code",
   "execution_count": null,
   "id": "dacd633b",
   "metadata": {},
   "outputs": [],
   "source": [
    "\n",
    "# Comentarios: se escriben con el símbolo #\n",
    "# Esto es un comentario\n",
    "\n",
    "# Variables y tipos básicos\n",
    "nombre = \"Santiago\"\n",
    "edad = 22\n",
    "pi = 3.1416\n",
    "es_estudiante = True\n",
    "\n",
    "print(nombre, edad, pi, es_estudiante)\n",
    "print(type(nombre), type(edad), type(pi), type(es_estudiante))\n"
   ]
  },
  {
   "cell_type": "markdown",
   "id": "c8f8a148",
   "metadata": {},
   "source": [
    "## 3. Operadores"
   ]
  },
  {
   "cell_type": "code",
   "execution_count": null,
   "id": "22210972",
   "metadata": {},
   "outputs": [],
   "source": [
    "\n",
    "# Operadores aritméticos\n",
    "a, b = 10, 3\n",
    "print(\"Suma:\", a + b)\n",
    "print(\"Resta:\", a - b)\n",
    "print(\"Multiplicación:\", a * b)\n",
    "print(\"División:\", a / b)\n",
    "print(\"División entera:\", a // b)\n",
    "print(\"Módulo:\", a % b)\n",
    "print(\"Potencia:\", a ** b)\n",
    "\n",
    "# Operadores relacionales y lógicos\n",
    "print(a > b, a == b, a != b)\n",
    "print((a > 5) and (b < 5))\n",
    "print(not(a < b))\n"
   ]
  },
  {
   "cell_type": "markdown",
   "id": "44bf2299",
   "metadata": {},
   "source": [
    "## 4. Estructuras de control"
   ]
  },
  {
   "cell_type": "code",
   "execution_count": null,
   "id": "2a611cc4",
   "metadata": {},
   "outputs": [],
   "source": [
    "\n",
    "# Condicionales\n",
    "x = 15\n",
    "if x > 20:\n",
    "    print(\"Mayor que 20\")\n",
    "elif x == 15:\n",
    "    print(\"Es igual a 15\")\n",
    "else:\n",
    "    print(\"Menor que 20\")\n",
    "\n",
    "# Bucles\n",
    "for i in range(5):\n",
    "    print(\"Iteración:\", i)\n",
    "\n",
    "contador = 0\n",
    "while contador < 3:\n",
    "    print(\"Contador:\", contador)\n",
    "    contador += 1\n"
   ]
  },
  {
   "cell_type": "markdown",
   "id": "81757a14",
   "metadata": {},
   "source": [
    "## 5. Funciones"
   ]
  },
  {
   "cell_type": "code",
   "execution_count": null,
   "id": "07ec7e1e",
   "metadata": {},
   "outputs": [],
   "source": [
    "\n",
    "def saludar(nombre):\n",
    "    return f\"Hola, {nombre}!\"\n",
    "\n",
    "print(saludar(\"Santiago\"))\n",
    "\n",
    "# Función con parámetros opcionales\n",
    "def potencia(base, exponente=2):\n",
    "    return base ** exponente\n",
    "\n",
    "print(potencia(3))\n",
    "print(potencia(2, 5))\n",
    "\n",
    "# Función lambda (anónima)\n",
    "doble = lambda x: x * 2\n",
    "print(doble(10))\n"
   ]
  },
  {
   "cell_type": "markdown",
   "id": "59f24c5c",
   "metadata": {},
   "source": [
    "## 6. Colecciones (Listas, Tuplas, Conjuntos y Diccionarios)"
   ]
  },
  {
   "cell_type": "code",
   "execution_count": null,
   "id": "91d2b585",
   "metadata": {},
   "outputs": [],
   "source": [
    "\n",
    "# Lista\n",
    "numeros = [1, 2, 3, 4, 5]\n",
    "print(numeros)\n",
    "numeros.append(6)\n",
    "print(\"Lista modificada:\", numeros)\n",
    "\n",
    "# Tupla (inmutable)\n",
    "tupla = (10, 20, 30)\n",
    "print(tupla)\n",
    "\n",
    "# Conjunto (sin duplicados)\n",
    "conjunto = {1, 2, 2, 3}\n",
    "print(conjunto)\n",
    "\n",
    "# Diccionario (clave-valor)\n",
    "persona = {\"nombre\": \"Santiago\", \"edad\": 22, \"ciudad\": \"Medellín\"}\n",
    "print(persona[\"nombre\"])\n",
    "\n",
    "# Comprensión de listas\n",
    "cuadrados = [x**2 for x in range(6)]\n",
    "print(\"Cuadrados:\", cuadrados)\n"
   ]
  },
  {
   "cell_type": "markdown",
   "id": "b23938c7",
   "metadata": {},
   "source": [
    "## 7. Entrada y salida de datos"
   ]
  },
  {
   "cell_type": "code",
   "execution_count": null,
   "id": "48b69eb7",
   "metadata": {},
   "outputs": [],
   "source": [
    "\n",
    "# Salida\n",
    "print(\"Hola Mundo\")\n",
    "\n",
    "# Entrada (comentado para no detener ejecución)\n",
    "# nombre = input(\"¿Cómo te llamas?: \")\n",
    "# print(\"Hola\", nombre)\n"
   ]
  },
  {
   "cell_type": "markdown",
   "id": "e4853d8e",
   "metadata": {},
   "source": [
    "## 8. Manejo de errores (try/except)"
   ]
  },
  {
   "cell_type": "code",
   "execution_count": null,
   "id": "df3ebdbb",
   "metadata": {},
   "outputs": [],
   "source": [
    "\n",
    "try:\n",
    "    numero = int(\"abc\")  # Error intencional\n",
    "except ValueError:\n",
    "    print(\"Error: No se puede convertir texto a número.\")\n",
    "finally:\n",
    "    print(\"Bloque finalizado.\")\n"
   ]
  },
  {
   "cell_type": "markdown",
   "id": "9e0ab72c",
   "metadata": {},
   "source": [
    "## 9. Módulos y librerías estándar"
   ]
  },
  {
   "cell_type": "code",
   "execution_count": null,
   "id": "b08c1ac9",
   "metadata": {},
   "outputs": [],
   "source": [
    "\n",
    "import math, random, datetime\n",
    "\n",
    "print(\"Raíz cuadrada:\", math.sqrt(16))\n",
    "print(\"Número aleatorio:\", random.randint(1, 10))\n",
    "print(\"Fecha actual:\", datetime.datetime.now())\n"
   ]
  },
  {
   "cell_type": "markdown",
   "id": "2356f963",
   "metadata": {},
   "source": [
    "## 10. Introducción a NumPy y Pandas"
   ]
  },
  {
   "cell_type": "code",
   "execution_count": null,
   "id": "7b5928ec",
   "metadata": {},
   "outputs": [],
   "source": [
    "\n",
    "import numpy as np\n",
    "import pandas as pd\n",
    "\n",
    "# NumPy\n",
    "arr = np.array([1, 2, 3, 4, 5])\n",
    "print(\"Array:\", arr)\n",
    "print(\"Media:\", np.mean(arr))\n",
    "print(\"Suma:\", np.sum(arr))\n",
    "\n",
    "# Pandas\n",
    "data = {'Nombre': ['Ana', 'Luis', 'Santiago'], 'Edad': [23, 25, 22]}\n",
    "df = pd.DataFrame(data)\n",
    "print(df)\n",
    "print(\"Promedio de edad:\", df['Edad'].mean())\n"
   ]
  }
 ],
 "metadata": {
  "language_info": {
   "name": "python"
  }
 },
 "nbformat": 4,
 "nbformat_minor": 5
}
